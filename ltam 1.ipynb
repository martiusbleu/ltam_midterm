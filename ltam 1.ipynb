{
 "cells": [
  {
   "cell_type": "code",
   "execution_count": 28,
   "metadata": {
    "collapsed": true
   },
   "outputs": [],
   "source": [
    "import random\n",
    "import math\n",
    "import pandas as pd\n",
    "import numpy as np\n",
    "import numpy.random as rnd\n",
    "import scipy.stats as st"
   ]
  },
  {
   "cell_type": "code",
   "execution_count": 29,
   "outputs": [],
   "source": [
    "#create a random number generator and call it rng\n",
    "rng = rnd.default_rng(1) #let random seed be 1"
   ],
   "metadata": {
    "collapsed": false
   }
  },
  {
   "cell_type": "code",
   "execution_count": 30,
   "outputs": [],
   "source": [
    "#generate 100,000 observations of Tx0 knowing that Tx0 is an exponential distribution with lambda = 0.065\n",
    "lamb = 0.065\n",
    "tx0 = []\n",
    "for i in range(100000):\n",
    "   tx0.append(rng.exponential(scale=1/lamb))"
   ],
   "metadata": {
    "collapsed": false
   }
  },
  {
   "cell_type": "code",
   "execution_count": 31,
   "outputs": [
    {
     "data": {
      "text/plain": "         tx0\n0  16.508139\n1   4.745433\n2  82.699029\n3   5.637340\n4   1.774801",
      "text/html": "<div>\n<style scoped>\n    .dataframe tbody tr th:only-of-type {\n        vertical-align: middle;\n    }\n\n    .dataframe tbody tr th {\n        vertical-align: top;\n    }\n\n    .dataframe thead th {\n        text-align: right;\n    }\n</style>\n<table border=\"1\" class=\"dataframe\">\n  <thead>\n    <tr style=\"text-align: right;\">\n      <th></th>\n      <th>tx0</th>\n    </tr>\n  </thead>\n  <tbody>\n    <tr>\n      <th>0</th>\n      <td>16.508139</td>\n    </tr>\n    <tr>\n      <th>1</th>\n      <td>4.745433</td>\n    </tr>\n    <tr>\n      <th>2</th>\n      <td>82.699029</td>\n    </tr>\n    <tr>\n      <th>3</th>\n      <td>5.637340</td>\n    </tr>\n    <tr>\n      <th>4</th>\n      <td>1.774801</td>\n    </tr>\n  </tbody>\n</table>\n</div>"
     },
     "execution_count": 31,
     "metadata": {},
     "output_type": "execute_result"
    }
   ],
   "source": [
    "df = pd.DataFrame(tx0, columns=['tx0'])\n",
    "df.head()"
   ],
   "metadata": {
    "collapsed": false
   }
  },
  {
   "cell_type": "code",
   "execution_count": 32,
   "outputs": [],
   "source": [
    "#generate the corresponding destination state. We know that\n",
    "# P(disabled | Tx0 = t) = 5/13\n",
    "# P(dead | Tx0 = t) = 8/13\n",
    "random.seed(1)\n",
    "destination = []\n",
    "choice = [1,2]\n",
    "for i in range(100000):\n",
    "    destination.extend(random.choices(choice, weights=(5/13, 8/13), k=1))"
   ],
   "metadata": {
    "collapsed": false
   }
  },
  {
   "cell_type": "code",
   "execution_count": 33,
   "outputs": [],
   "source": [
    "df['destination'] = destination\n",
    "df['destination'] = df['destination'].astype(int)"
   ],
   "metadata": {
    "collapsed": false
   }
  },
  {
   "cell_type": "code",
   "execution_count": 34,
   "outputs": [
    {
     "data": {
      "text/plain": "         tx0  destination\n0  16.508139            1\n1   4.745433            2\n2  82.699029            2\n3   5.637340            1\n4   1.774801            2",
      "text/html": "<div>\n<style scoped>\n    .dataframe tbody tr th:only-of-type {\n        vertical-align: middle;\n    }\n\n    .dataframe tbody tr th {\n        vertical-align: top;\n    }\n\n    .dataframe thead th {\n        text-align: right;\n    }\n</style>\n<table border=\"1\" class=\"dataframe\">\n  <thead>\n    <tr style=\"text-align: right;\">\n      <th></th>\n      <th>tx0</th>\n      <th>destination</th>\n    </tr>\n  </thead>\n  <tbody>\n    <tr>\n      <th>0</th>\n      <td>16.508139</td>\n      <td>1</td>\n    </tr>\n    <tr>\n      <th>1</th>\n      <td>4.745433</td>\n      <td>2</td>\n    </tr>\n    <tr>\n      <th>2</th>\n      <td>82.699029</td>\n      <td>2</td>\n    </tr>\n    <tr>\n      <th>3</th>\n      <td>5.637340</td>\n      <td>1</td>\n    </tr>\n    <tr>\n      <th>4</th>\n      <td>1.774801</td>\n      <td>2</td>\n    </tr>\n  </tbody>\n</table>\n</div>"
     },
     "execution_count": 34,
     "metadata": {},
     "output_type": "execute_result"
    }
   ],
   "source": [
    "df.head(5)"
   ],
   "metadata": {
    "collapsed": false
   }
  },
  {
   "cell_type": "code",
   "execution_count": 35,
   "outputs": [
    {
     "data": {
      "text/plain": "         tx0  destination        tx1\n0  16.508139            1  16.528829\n1   4.745433            2   6.915302\n2  82.699029            2  25.654862\n3   5.637340            1   5.600636\n4   1.774801            2   7.000690",
      "text/html": "<div>\n<style scoped>\n    .dataframe tbody tr th:only-of-type {\n        vertical-align: middle;\n    }\n\n    .dataframe tbody tr th {\n        vertical-align: top;\n    }\n\n    .dataframe thead th {\n        text-align: right;\n    }\n</style>\n<table border=\"1\" class=\"dataframe\">\n  <thead>\n    <tr style=\"text-align: right;\">\n      <th></th>\n      <th>tx0</th>\n      <th>destination</th>\n      <th>tx1</th>\n    </tr>\n  </thead>\n  <tbody>\n    <tr>\n      <th>0</th>\n      <td>16.508139</td>\n      <td>1</td>\n      <td>16.528829</td>\n    </tr>\n    <tr>\n      <th>1</th>\n      <td>4.745433</td>\n      <td>2</td>\n      <td>6.915302</td>\n    </tr>\n    <tr>\n      <th>2</th>\n      <td>82.699029</td>\n      <td>2</td>\n      <td>25.654862</td>\n    </tr>\n    <tr>\n      <th>3</th>\n      <td>5.637340</td>\n      <td>1</td>\n      <td>5.600636</td>\n    </tr>\n    <tr>\n      <th>4</th>\n      <td>1.774801</td>\n      <td>2</td>\n      <td>7.000690</td>\n    </tr>\n  </tbody>\n</table>\n</div>"
     },
     "execution_count": 35,
     "metadata": {},
     "output_type": "execute_result"
    }
   ],
   "source": [
    "#generate 100,000 observations of Tx1 knowing that Tx0 is an exponential distribution with lambda = 0.05\n",
    "lamb1 = 0.05\n",
    "tx1 = []\n",
    "for i in range(100000):\n",
    "    tx1.append(rng.exponential(scale=1/lamb1))\n",
    "df['tx1'] = tx1\n",
    "df.head()"
   ],
   "metadata": {
    "collapsed": false
   }
  },
  {
   "cell_type": "code",
   "execution_count": 36,
   "outputs": [],
   "source": [
    "#df_copy = df.copy()"
   ],
   "metadata": {
    "collapsed": false
   }
  },
  {
   "cell_type": "code",
   "execution_count": 37,
   "outputs": [
    {
     "data": {
      "text/plain": "          tx0  destination        tx1\n0   16.508139            1  16.528829\n1    4.745433            2   0.000000\n2   82.699029            2   0.000000\n3    5.637340            1   5.600636\n4    1.774801            2   0.000000\n..        ...          ...        ...\n95   5.747140            2   0.000000\n96  17.008711            2   0.000000\n97  30.418828            2   0.000000\n98   9.646355            2   0.000000\n99   2.534693            2   0.000000\n\n[100 rows x 3 columns]",
      "text/html": "<div>\n<style scoped>\n    .dataframe tbody tr th:only-of-type {\n        vertical-align: middle;\n    }\n\n    .dataframe tbody tr th {\n        vertical-align: top;\n    }\n\n    .dataframe thead th {\n        text-align: right;\n    }\n</style>\n<table border=\"1\" class=\"dataframe\">\n  <thead>\n    <tr style=\"text-align: right;\">\n      <th></th>\n      <th>tx0</th>\n      <th>destination</th>\n      <th>tx1</th>\n    </tr>\n  </thead>\n  <tbody>\n    <tr>\n      <th>0</th>\n      <td>16.508139</td>\n      <td>1</td>\n      <td>16.528829</td>\n    </tr>\n    <tr>\n      <th>1</th>\n      <td>4.745433</td>\n      <td>2</td>\n      <td>0.000000</td>\n    </tr>\n    <tr>\n      <th>2</th>\n      <td>82.699029</td>\n      <td>2</td>\n      <td>0.000000</td>\n    </tr>\n    <tr>\n      <th>3</th>\n      <td>5.637340</td>\n      <td>1</td>\n      <td>5.600636</td>\n    </tr>\n    <tr>\n      <th>4</th>\n      <td>1.774801</td>\n      <td>2</td>\n      <td>0.000000</td>\n    </tr>\n    <tr>\n      <th>...</th>\n      <td>...</td>\n      <td>...</td>\n      <td>...</td>\n    </tr>\n    <tr>\n      <th>95</th>\n      <td>5.747140</td>\n      <td>2</td>\n      <td>0.000000</td>\n    </tr>\n    <tr>\n      <th>96</th>\n      <td>17.008711</td>\n      <td>2</td>\n      <td>0.000000</td>\n    </tr>\n    <tr>\n      <th>97</th>\n      <td>30.418828</td>\n      <td>2</td>\n      <td>0.000000</td>\n    </tr>\n    <tr>\n      <th>98</th>\n      <td>9.646355</td>\n      <td>2</td>\n      <td>0.000000</td>\n    </tr>\n    <tr>\n      <th>99</th>\n      <td>2.534693</td>\n      <td>2</td>\n      <td>0.000000</td>\n    </tr>\n  </tbody>\n</table>\n<p>100 rows × 3 columns</p>\n</div>"
     },
     "execution_count": 37,
     "metadata": {},
     "output_type": "execute_result"
    }
   ],
   "source": [
    "#for all obs that have destination = 2 we set tx1 = 0\n",
    "df.loc[df['destination'] == 2, 'tx1'] = 0\n",
    "df.head(100)"
   ],
   "metadata": {
    "collapsed": false
   }
  },
  {
   "cell_type": "code",
   "execution_count": 38,
   "outputs": [],
   "source": [
    "def present_value(df):\n",
    "    if df['destination'] == 1:\n",
    "        val = 1000*((1 - np.exp(df['tx1']*(-0.06))) / 0.06)*np.exp(df['tx0']*(-0.06))\n",
    "    else:\n",
    "        val = 10000*np.exp(df['tx0']*(-0.06))\n",
    "    return val"
   ],
   "metadata": {
    "collapsed": false
   }
  },
  {
   "cell_type": "code",
   "execution_count": 39,
   "outputs": [],
   "source": [
    "df['Present Value of Z'] = df.apply(present_value, axis =1 )"
   ],
   "metadata": {
    "collapsed": false
   }
  },
  {
   "cell_type": "code",
   "execution_count": 40,
   "outputs": [
    {
     "data": {
      "text/plain": "         tx0  destination        tx1  Present Value of Z\n0  16.508139            1  16.528829         3893.865880\n1   4.745433            2   0.000000         7522.203501\n2  82.699029            2   0.000000           69.993238\n3   5.637340            1   5.600636         3391.666345\n4   1.774801            2   0.000000         8989.858035\n5  27.689186            2   0.000000         1898.822462\n6   7.671371            2   0.000000         6311.054945\n7   8.483406            2   0.000000         6010.937613\n8   0.457130            1   9.997835         7315.201097\n9  11.754870            1   1.341720          636.786316",
      "text/html": "<div>\n<style scoped>\n    .dataframe tbody tr th:only-of-type {\n        vertical-align: middle;\n    }\n\n    .dataframe tbody tr th {\n        vertical-align: top;\n    }\n\n    .dataframe thead th {\n        text-align: right;\n    }\n</style>\n<table border=\"1\" class=\"dataframe\">\n  <thead>\n    <tr style=\"text-align: right;\">\n      <th></th>\n      <th>tx0</th>\n      <th>destination</th>\n      <th>tx1</th>\n      <th>Present Value of Z</th>\n    </tr>\n  </thead>\n  <tbody>\n    <tr>\n      <th>0</th>\n      <td>16.508139</td>\n      <td>1</td>\n      <td>16.528829</td>\n      <td>3893.865880</td>\n    </tr>\n    <tr>\n      <th>1</th>\n      <td>4.745433</td>\n      <td>2</td>\n      <td>0.000000</td>\n      <td>7522.203501</td>\n    </tr>\n    <tr>\n      <th>2</th>\n      <td>82.699029</td>\n      <td>2</td>\n      <td>0.000000</td>\n      <td>69.993238</td>\n    </tr>\n    <tr>\n      <th>3</th>\n      <td>5.637340</td>\n      <td>1</td>\n      <td>5.600636</td>\n      <td>3391.666345</td>\n    </tr>\n    <tr>\n      <th>4</th>\n      <td>1.774801</td>\n      <td>2</td>\n      <td>0.000000</td>\n      <td>8989.858035</td>\n    </tr>\n    <tr>\n      <th>5</th>\n      <td>27.689186</td>\n      <td>2</td>\n      <td>0.000000</td>\n      <td>1898.822462</td>\n    </tr>\n    <tr>\n      <th>6</th>\n      <td>7.671371</td>\n      <td>2</td>\n      <td>0.000000</td>\n      <td>6311.054945</td>\n    </tr>\n    <tr>\n      <th>7</th>\n      <td>8.483406</td>\n      <td>2</td>\n      <td>0.000000</td>\n      <td>6010.937613</td>\n    </tr>\n    <tr>\n      <th>8</th>\n      <td>0.457130</td>\n      <td>1</td>\n      <td>9.997835</td>\n      <td>7315.201097</td>\n    </tr>\n    <tr>\n      <th>9</th>\n      <td>11.754870</td>\n      <td>1</td>\n      <td>1.341720</td>\n      <td>636.786316</td>\n    </tr>\n  </tbody>\n</table>\n</div>"
     },
     "execution_count": 40,
     "metadata": {},
     "output_type": "execute_result"
    }
   ],
   "source": [
    "df.head(10)"
   ],
   "metadata": {
    "collapsed": false
   }
  },
  {
   "cell_type": "code",
   "execution_count": 41,
   "outputs": [
    {
     "data": {
      "text/plain": "<AxesSubplot:>"
     },
     "execution_count": 41,
     "metadata": {},
     "output_type": "execute_result"
    },
    {
     "data": {
      "text/plain": "<Figure size 432x288 with 1 Axes>",
      "image/png": "[encoded data removed]"
     },
     "metadata": {},
     "output_type": "display_data"
    }
   ],
   "source": [
    "#The histogram of the PV of Z\n",
    "df['Present Value of Z'].hist()"
   ],
   "metadata": {
    "collapsed": false
   }
  },
  {
   "cell_type": "code",
   "execution_count": 42,
   "outputs": [],
   "source": [
    "dfs = np.array_split(df, 400)"
   ],
   "metadata": {
    "collapsed": false
   }
  },
  {
   "cell_type": "code",
   "execution_count": 43,
   "outputs": [
    {
     "data": {
      "text/plain": "list"
     },
     "execution_count": 43,
     "metadata": {},
     "output_type": "execute_result"
    }
   ],
   "source": [
    "type(dfs)"
   ],
   "metadata": {
    "collapsed": false
   }
  },
  {
   "cell_type": "code",
   "execution_count": 44,
   "outputs": [
    {
     "data": {
      "text/plain": "           tx0  destination         tx1  Present Value of Z\n0    16.508139            1   16.528829         3893.865880\n1     4.745433            2    0.000000         7522.203501\n2    82.699029            2    0.000000           69.993238\n3     5.637340            1    5.600636         3391.666345\n4     1.774801            2    0.000000         8989.858035\n..         ...          ...         ...                 ...\n245   0.643984            1   14.234889         9209.378209\n246  14.262147            2    0.000000         4249.733555\n247  28.806092            1   11.627129         1486.402261\n248   5.547869            1   14.677309         6995.159977\n249  12.714110            1  122.230732         7767.208812\n\n[250 rows x 4 columns]",
      "text/html": "<div>\n<style scoped>\n    .dataframe tbody tr th:only-of-type {\n        vertical-align: middle;\n    }\n\n    .dataframe tbody tr th {\n        vertical-align: top;\n    }\n\n    .dataframe thead th {\n        text-align: right;\n    }\n</style>\n<table border=\"1\" class=\"dataframe\">\n  <thead>\n    <tr style=\"text-align: right;\">\n      <th></th>\n      <th>tx0</th>\n      <th>destination</th>\n      <th>tx1</th>\n      <th>Present Value of Z</th>\n    </tr>\n  </thead>\n  <tbody>\n    <tr>\n      <th>0</th>\n      <td>16.508139</td>\n      <td>1</td>\n      <td>16.528829</td>\n      <td>3893.865880</td>\n    </tr>\n    <tr>\n      <th>1</th>\n      <td>4.745433</td>\n      <td>2</td>\n      <td>0.000000</td>\n      <td>7522.203501</td>\n    </tr>\n    <tr>\n      <th>2</th>\n      <td>82.699029</td>\n      <td>2</td>\n      <td>0.000000</td>\n      <td>69.993238</td>\n    </tr>\n    <tr>\n      <th>3</th>\n      <td>5.637340</td>\n      <td>1</td>\n      <td>5.600636</td>\n      <td>3391.666345</td>\n    </tr>\n    <tr>\n      <th>4</th>\n      <td>1.774801</td>\n      <td>2</td>\n      <td>0.000000</td>\n      <td>8989.858035</td>\n    </tr>\n    <tr>\n      <th>...</th>\n      <td>...</td>\n      <td>...</td>\n      <td>...</td>\n      <td>...</td>\n    </tr>\n    <tr>\n      <th>245</th>\n      <td>0.643984</td>\n      <td>1</td>\n      <td>14.234889</td>\n      <td>9209.378209</td>\n    </tr>\n    <tr>\n      <th>246</th>\n      <td>14.262147</td>\n      <td>2</td>\n      <td>0.000000</td>\n      <td>4249.733555</td>\n    </tr>\n    <tr>\n      <th>247</th>\n      <td>28.806092</td>\n      <td>1</td>\n      <td>11.627129</td>\n      <td>1486.402261</td>\n    </tr>\n    <tr>\n      <th>248</th>\n      <td>5.547869</td>\n      <td>1</td>\n      <td>14.677309</td>\n      <td>6995.159977</td>\n    </tr>\n    <tr>\n      <th>249</th>\n      <td>12.714110</td>\n      <td>1</td>\n      <td>122.230732</td>\n      <td>7767.208812</td>\n    </tr>\n  </tbody>\n</table>\n<p>250 rows × 4 columns</p>\n</div>"
     },
     "execution_count": 44,
     "metadata": {},
     "output_type": "execute_result"
    }
   ],
   "source": [
    "dfs[0]"
   ],
   "metadata": {
    "collapsed": false
   }
  },
  {
   "cell_type": "code",
   "execution_count": 45,
   "outputs": [
    {
     "data": {
      "text/plain": "[4797.9483173159915,\n 5341.668848610102,\n 4945.574701404673,\n 5156.525448440598,\n 4742.391079211908,\n 5102.688629182211,\n 4973.486909390576,\n 5261.142821394488,\n 5192.988067385703,\n 5044.569458772213,\n 5397.077608592871,\n 4997.947778247256,\n 5287.1682650253615,\n 4699.46419498954,\n 5321.302820158674,\n 4584.312558783891,\n 5163.3738950872485,\n 4653.555289062477,\n 5209.503166203955,\n 4786.334545496601,\n 4963.410148243624,\n 5131.599036902791,\n 4807.509497339802,\n 5014.144297685287,\n 4930.898810947728,\n 4789.265540390585,\n 5151.07589143654,\n 5313.853228265693,\n 4878.949962306154,\n 4962.1969010034445,\n 4901.612246640671,\n 4715.645281623526,\n 5215.724327507272,\n 5037.0835998730145,\n 4631.045057866295,\n 5520.751872078163,\n 5000.745033352654,\n 4896.639782932897,\n 5317.471616502354,\n 4669.960476909181,\n 4720.561623531435,\n 5152.014554267124,\n 4987.704888933107,\n 5126.768395246833,\n 5076.117047478638,\n 5233.814624212967,\n 5035.9543373430115,\n 5479.066959283663,\n 4603.948135340971,\n 5192.297656653414,\n 5006.211081718546,\n 4810.759671111191,\n 5161.033606754284,\n 5021.985482695446,\n 5714.08290859985,\n 4949.574226433419,\n 4479.012162133126,\n 5134.812187735656,\n 4923.628877525084,\n 5330.084735586201,\n 4868.6405273919245,\n 4746.564429005046,\n 5272.610071692496,\n 5113.994634002682,\n 4846.028708856537,\n 5186.683415938593,\n 5295.32859579579,\n 5413.323635255293,\n 4835.207942299722,\n 5098.363911597014,\n 4847.524740432258,\n 5160.301649367725,\n 5078.08459512503,\n 5530.999482267803,\n 5166.022725149785,\n 4916.786228799833,\n 5097.277233073685,\n 5007.561952365998,\n 4725.215111713497,\n 5102.636760178872,\n 5105.94431996663,\n 4918.922736302222,\n 5142.809218980697,\n 5032.104765728009,\n 5021.149147956134,\n 4969.988263563241,\n 4744.26016950959,\n 5089.458270659317,\n 5169.406821378984,\n 5055.669651903533,\n 5078.64210761107,\n 5010.006126615252,\n 4944.392288162778,\n 4837.777414445681,\n 5055.389882894029,\n 5287.578717190988,\n 4670.182234819517,\n 4591.867495164435,\n 5064.937217132989,\n 5340.657689100557,\n 4790.125110421913,\n 5250.8288684867775,\n 4912.2996896126915,\n 4735.159708669162,\n 4860.269173167861,\n 5011.448020302242,\n 4824.954734121102,\n 4695.244816273619,\n 5116.635928111477,\n 4937.945767649324,\n 5341.3900008697365,\n 5024.012193580376,\n 5069.80873576304,\n 4886.884250962949,\n 5139.893504714153,\n 4936.093982356729,\n 5221.7942741381,\n 4894.253320777865,\n 5192.449882109683,\n 4997.3537032994,\n 5197.479277638455,\n 4728.311312971474,\n 4942.625532005356,\n 5119.497535686095,\n 4864.431260183968,\n 5020.018002377979,\n 4899.899849465782,\n 4871.373616948114,\n 4656.472873637349,\n 5133.907462835449,\n 5034.965159728243,\n 4977.260438922639,\n 4983.7053713401465,\n 5419.380473059599,\n 4996.30971225953,\n 4977.981262362284,\n 4791.910213506233,\n 4792.373676153366,\n 5254.603158138726,\n 4940.2242326754285,\n 4996.698150917207,\n 4818.101500544615,\n 5004.740258597873,\n 4934.646635398083,\n 5002.227760677285,\n 5164.602669417898,\n 5026.197507868776,\n 4865.670197877676,\n 5003.378096018857,\n 4959.9330672430515,\n 5484.664371266745,\n 5248.970835910307,\n 4674.347285385801,\n 4706.448347235835,\n 4901.894118485852,\n 5197.925771385283,\n 4954.591409355968,\n 4713.701384274553,\n 4868.105305087451,\n 5082.500658810605,\n 4753.4998307888045,\n 4936.278364486705,\n 4797.915395125629,\n 4939.51408753507,\n 4890.646874328165,\n 5150.5692903301715,\n 5049.354066367295,\n 4861.449542975605,\n 5394.867683107103,\n 4934.9469657059635,\n 4937.971127625034,\n 4939.183720513565,\n 5095.566507523171,\n 4832.0014886175595,\n 5075.010111579689,\n 4834.652144022059,\n 4875.475230011218,\n 4997.795477517225,\n 5163.598636347369,\n 4646.972313710243,\n 5198.173140561828,\n 5084.070959099664,\n 5210.776312621339,\n 4959.417388971543,\n 5144.9383091063755,\n 4932.569606637792,\n 4650.645202914772,\n 5344.243148119115,\n 4999.125988063426,\n 4764.168256457861,\n 4806.20616519335,\n 5406.448740678725,\n 4939.404471094402,\n 5146.844163387714,\n 5087.4256272255325,\n 5054.7483667738825,\n 4718.605667324216,\n 4907.006718977906,\n 4978.175406761692,\n 5102.561852024007,\n 5290.018114929784,\n 5438.288146700291,\n 4950.935425285885,\n 5196.772979940649,\n 4974.245000199584,\n 5018.94728382325,\n 5038.511808224758,\n 5157.483499987103,\n 4903.006660827112,\n 5435.367863609209,\n 5033.327315477158,\n 4725.252844549021,\n 4776.633532393163,\n 5136.715948892585,\n 5087.684742206673,\n 5235.792326515157,\n 5184.439732299408,\n 5243.817313004669,\n 4933.963150336889,\n 4334.394511621721,\n 4812.435636287856,\n 5174.5019701766105,\n 5245.636347241828,\n 5112.60528275645,\n 4789.506587316316,\n 5091.294324466604,\n 4786.196846076784,\n 4987.686909917457,\n 5122.763314178502,\n 4995.776403667339,\n 5194.842590102924,\n 5205.367448328653,\n 5087.667871640377,\n 4763.966486978851,\n 4970.317622401244,\n 5230.760142405423,\n 5114.511871963514,\n 4819.3686900663715,\n 4910.195493745937,\n 5572.731169682371,\n 5317.196200644704,\n 5190.686462892942,\n 5176.824867788991,\n 5044.301375983984,\n 5081.309784774866,\n 5158.749423929945,\n 5181.986985631371,\n 4962.073846222219,\n 4952.888861695179,\n 4953.19130823751,\n 4702.889947818668,\n 4875.240876849386,\n 4581.9572304159765,\n 4946.775136512769,\n 4967.547295364234,\n 4876.038781887696,\n 5156.311328346947,\n 5058.67292512357,\n 5157.8545521296155,\n 5385.311568519039,\n 4690.980111774729,\n 5162.689295754313,\n 5220.403077087444,\n 4941.6797407959175,\n 5120.885904265972,\n 5003.108623082492,\n 4728.413749112237,\n 4763.605700628764,\n 4993.076799842812,\n 4797.178447820041,\n 5085.855787161695,\n 5229.672994303615,\n 5074.499116284968,\n 5217.413727144971,\n 5024.100956283802,\n 5116.945144324337,\n 5119.8776768521575,\n 5192.143311935209,\n 4889.231764476176,\n 5385.201376715648,\n 5006.990992627388,\n 5057.15128352162,\n 4997.931331741632,\n 4685.237553724357,\n 5379.82125311645,\n 4887.7831496247345,\n 4732.082928007826,\n 4977.175850957152,\n 4800.738192351766,\n 5177.721989806243,\n 4795.348378087114,\n 5007.617087754248,\n 4853.441484728851,\n 4827.120029502913,\n 5591.779412243474,\n 4868.344330715512,\n 4819.354726863615,\n 5462.672771079716,\n 5240.960839617093,\n 5009.460209120787,\n 4783.794602283276,\n 4873.026332434658,\n 4421.619735055344,\n 5146.131928062585,\n 4933.2561718952775,\n 4968.388680789533,\n 5046.594243670328,\n 4868.941341837828,\n 4977.949498028116,\n 4852.08159369827,\n 4851.493193093212,\n 4799.416802422622,\n 4646.958634106211,\n 5145.996454456852,\n 5116.078650745207,\n 5254.348042798578,\n 5017.962217951422,\n 5296.749795225553,\n 5207.805445941314,\n 5097.00632656115,\n 5025.104323579648,\n 4969.026761478301,\n 4894.27668296184,\n 4853.248989232476,\n 5245.046489770844,\n 5387.387477778494,\n 4539.097040626216,\n 4966.934407965087,\n 4975.6848702629195,\n 5012.927173983141,\n 5370.114026648624,\n 4659.697083717262,\n 4995.778684736243,\n 4446.573145472635,\n 4937.68095591965,\n 5082.1342849544235,\n 5318.183912719578,\n 4689.135716246137,\n 5344.397722751302,\n 4962.744962442943,\n 4784.096538924788,\n 5060.490210268516,\n 5391.746079538242,\n 5018.195809820335,\n 5085.101625086037,\n 5003.106259325452,\n 5051.483200573975,\n 5557.218230975292,\n 5202.085474234052,\n 4781.168925184857,\n 4644.738558722432,\n 4844.681395517491,\n 5142.126656331638,\n 5093.713680073859,\n 4450.88856824958,\n 5168.236707352918,\n 5145.969657255504,\n 5386.917318014977,\n 4824.06720017541,\n 4558.889773325751,\n 4872.178800359588,\n 4869.690499547262,\n 4789.11974296839,\n 4864.056299154633,\n 4890.627387484641,\n 5135.852110071484,\n 5201.935091696126,\n 4734.641642827392,\n 5024.440124098307,\n 4961.75078662033,\n 4800.305303675078,\n 5011.790109294463,\n 5544.848113740917,\n 5268.428969091166,\n 5124.690498800226,\n 4784.449216048594,\n 5439.1504157830095,\n 4883.031493004512,\n 5103.401014357549,\n 5085.131694130721,\n 4681.768533929636,\n 4854.272149456788,\n 4998.157665244102,\n 4878.739888910831,\n 5107.65716977969,\n 4888.298089276188,\n 4893.614156799586,\n 5067.271549934711,\n 4721.148413807095,\n 5270.933981815098,\n 4989.711388996281,\n 4625.800609954985,\n 5139.7140044281505,\n 4927.3122008613245,\n 4740.452009477178,\n 4909.333524998298,\n 5157.058539474121,\n 4955.782951854796,\n 5203.503954499476,\n 5293.522507356113]"
     },
     "execution_count": 45,
     "metadata": {},
     "output_type": "execute_result"
    }
   ],
   "source": [
    "mean_z = []\n",
    "for i in range(400):\n",
    "    mean = dfs[i]['Present Value of Z'].mean()\n",
    "    mean_z.append(mean)\n",
    "mean_z"
   ],
   "metadata": {
    "collapsed": false
   }
  },
  {
   "cell_type": "code",
   "execution_count": 46,
   "outputs": [
    {
     "data": {
      "text/plain": "400"
     },
     "execution_count": 46,
     "metadata": {},
     "output_type": "execute_result"
    }
   ],
   "source": [
    "len(mean_z)"
   ],
   "metadata": {
    "collapsed": false
   }
  },
  {
   "cell_type": "code",
   "execution_count": 47,
   "outputs": [
    {
     "data": {
      "text/plain": "array([[<AxesSubplot:title={'center':'0'}>]], dtype=object)"
     },
     "execution_count": 47,
     "metadata": {},
     "output_type": "execute_result"
    },
    {
     "data": {
      "text/plain": "<Figure size 432x288 with 1 Axes>",
      "image/png": "[encoded data removed]"
     },
     "metadata": {},
     "output_type": "display_data"
    }
   ],
   "source": [
    "#histogram of Z_, we can see that the distribution of Z_ is approximately normal (bell shape)\n",
    "mean_z = pd.DataFrame(mean_z)\n",
    "mean_z.hist(bins=20)"
   ],
   "metadata": {
    "collapsed": false
   }
  },
  {
   "cell_type": "code",
   "execution_count": 48,
   "outputs": [
    {
     "data": {
      "text/plain": "0    5010.746482\ndtype: float64"
     },
     "execution_count": 48,
     "metadata": {},
     "output_type": "execute_result"
    }
   ],
   "source": [
    "#estimate the variance of Z_\n",
    "mean_mean_z = mean_z.mean()\n",
    "mean_mean_z"
   ],
   "metadata": {
    "collapsed": false
   }
  },
  {
   "cell_type": "code",
   "execution_count": 49,
   "outputs": [
    {
     "data": {
      "text/plain": "0    217.394691\ndtype: float64"
     },
     "execution_count": 49,
     "metadata": {},
     "output_type": "execute_result"
    }
   ],
   "source": [
    "#estimate the mean and variance of Z_\n",
    "sd_mean_z = mean_z.std()\n",
    "sd_mean_z"
   ],
   "metadata": {
    "collapsed": false
   }
  },
  {
   "cell_type": "code",
   "execution_count": 50,
   "outputs": [
    {
     "data": {
      "text/plain": "(0    4989.387454\n dtype: float64,\n 0    5032.10551\n dtype: float64)"
     },
     "execution_count": 50,
     "metadata": {},
     "output_type": "execute_result"
    }
   ],
   "source": [
    "#95% confidence interval of the EPV of the benefit\n",
    "def ci(x, sd, n):\n",
    "    upper = x + 1.965*(sd/math.sqrt(n))\n",
    "    lower = x - 1.965*(sd/math.sqrt(n))\n",
    "    return lower, upper\n",
    "ci(mean_mean_z, sd_mean_z, 400)"
   ],
   "metadata": {
    "collapsed": false
   }
  },
  {
   "cell_type": "code",
   "execution_count": 51,
   "outputs": [],
   "source": [
    "#df_copy.head()"
   ],
   "metadata": {
    "collapsed": false
   }
  },
  {
   "cell_type": "code",
   "execution_count": 52,
   "outputs": [
    {
     "data": {
      "text/plain": "         tx0  destination        tx1  Present Value of Z         tx\n0  16.508139            1  16.528829         3893.865880  33.036968\n1   4.745433            2   0.000000         7522.203501   4.745433\n2  82.699029            2   0.000000           69.993238  82.699029\n3   5.637340            1   5.600636         3391.666345  11.237976\n4   1.774801            2   0.000000         8989.858035   1.774801",
      "text/html": "<div>\n<style scoped>\n    .dataframe tbody tr th:only-of-type {\n        vertical-align: middle;\n    }\n\n    .dataframe tbody tr th {\n        vertical-align: top;\n    }\n\n    .dataframe thead th {\n        text-align: right;\n    }\n</style>\n<table border=\"1\" class=\"dataframe\">\n  <thead>\n    <tr style=\"text-align: right;\">\n      <th></th>\n      <th>tx0</th>\n      <th>destination</th>\n      <th>tx1</th>\n      <th>Present Value of Z</th>\n      <th>tx</th>\n    </tr>\n  </thead>\n  <tbody>\n    <tr>\n      <th>0</th>\n      <td>16.508139</td>\n      <td>1</td>\n      <td>16.528829</td>\n      <td>3893.865880</td>\n      <td>33.036968</td>\n    </tr>\n    <tr>\n      <th>1</th>\n      <td>4.745433</td>\n      <td>2</td>\n      <td>0.000000</td>\n      <td>7522.203501</td>\n      <td>4.745433</td>\n    </tr>\n    <tr>\n      <th>2</th>\n      <td>82.699029</td>\n      <td>2</td>\n      <td>0.000000</td>\n      <td>69.993238</td>\n      <td>82.699029</td>\n    </tr>\n    <tr>\n      <th>3</th>\n      <td>5.637340</td>\n      <td>1</td>\n      <td>5.600636</td>\n      <td>3391.666345</td>\n      <td>11.237976</td>\n    </tr>\n    <tr>\n      <th>4</th>\n      <td>1.774801</td>\n      <td>2</td>\n      <td>0.000000</td>\n      <td>8989.858035</td>\n      <td>1.774801</td>\n    </tr>\n  </tbody>\n</table>\n</div>"
     },
     "execution_count": 52,
     "metadata": {},
     "output_type": "execute_result"
    }
   ],
   "source": [
    "df['tx'] = df['tx0'] + df['tx1']\n",
    "df.head()"
   ],
   "metadata": {
    "collapsed": false
   }
  },
  {
   "cell_type": "code",
   "execution_count": 53,
   "outputs": [
    {
     "data": {
      "text/plain": "22.916639773362512"
     },
     "execution_count": 53,
     "metadata": {},
     "output_type": "execute_result"
    }
   ],
   "source": [
    "df['tx'].mean()"
   ],
   "metadata": {
    "collapsed": false
   }
  },
  {
   "cell_type": "code",
   "execution_count": 54,
   "outputs": [
    {
     "name": "stderr",
     "output_type": "stream",
     "text": [
      "/opt/anaconda3/lib/python3.9/site-packages/seaborn/distributions.py:2619: FutureWarning: `distplot` is a deprecated function and will be removed in a future version. Please adapt your code to use either `displot` (a figure-level function with similar flexibility) or `histplot` (an axes-level function for histograms).\n",
      "  warnings.warn(msg, FutureWarning)\n"
     ]
    },
    {
     "data": {
      "text/plain": "<function matplotlib.pyplot.show(close=None, block=None)>"
     },
     "execution_count": 54,
     "metadata": {},
     "output_type": "execute_result"
    },
    {
     "data": {
      "text/plain": "<Figure size 432x288 with 1 Axes>",
      "image/png": "[encoded data removed]"
     },
     "metadata": {},
     "output_type": "display_data"
    }
   ],
   "source": [
    "import seaborn as sns\n",
    "import matplotlib.pyplot as plt\n",
    "\n",
    "sns.distplot(a=df['tx'])\n",
    "plt.show"
   ],
   "metadata": {
    "collapsed": false
   }
  },
  {
   "cell_type": "code",
   "execution_count": 54,
   "outputs": [],
   "source": [],
   "metadata": {
    "collapsed": false
   }
  }
 ],
 "metadata": {
  "kernelspec": {
   "display_name": "Python 3",
   "language": "python",
   "name": "python3"
  },
  "language_info": {
   "codemirror_mode": {
    "name": "ipython",
    "version": 2
   },
   "file_extension": ".py",
   "mimetype": "text/x-python",
   "name": "python",
   "nbconvert_exporter": "python",
   "pygments_lexer": "ipython2",
   "version": "2.7.6"
  }
 },
 "nbformat": 4,
 "nbformat_minor": 0
}
